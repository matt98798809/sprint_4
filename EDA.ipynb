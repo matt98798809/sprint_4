# %%
import streamlit as st 
import pandas as pd 
import plotly.express as px 
import numpy as np
import matplotlib as plt

# %% [markdown]
# ### Enriching the Data

# %%
# Getting the first word from model to get manufacturer
cars = pd.read_csv('vehicles_us.csv')
cars['manufacturer'] = cars['model'].apply(lambda x:x.split()[0])


# %%
# Categorizing Days Listed
def listed_category(days):
    
    if days <= 30:
        return 'Good' 
    elif 31 <= days <= 60:
        return 'Fair' 
    elif 61 <= days <= 90:
        return 'Poor' 
    else:
        return 'Very Poor'
    
cars['listing_category'] = cars['days_listed'].apply(listed_category)    

# %%
# Categorizing Odometer
def odometer_category(reading):
    
    if reading <= 40000:
        return 'Good' 
    elif 40001 <= reading <= 70000:
        return 'Fair' 
    elif 70001 <= reading <= 100000:
        return 'Poor' 
    else:
        return 'Very Poor'
    
cars['odometer_category'] = cars['odometer'].apply(odometer_category)    

# %%
cars.info()

# %% [markdown]
# ### Filling in Missing Values
# 
# I originally went with replacing missing values with the median but decided to not put this in the app.py file. Only odometer, paint color and is_4wd missing values were replaced. 

# %%
# # Find the avg and median years
# avg_year = cars['model_year'].mean()
# med_year = cars['model_year'].median()
# print(f'avg year is {avg_year} and median year is {med_year}')
# # Replacing missing values with median and changing the type to int
# cars['model_year'] = cars['model_year'].fillna(value=med_year)
# cars['model_year'] = cars['model_year'].astype(int)

# %%
# Find the avg and median cyclinders
# Although this might not be the best thing to do, as cyclinders may not match the vehicle type, I'm doing it for the sake of not having missing values
# avg_cyc = cars['cylinders'].mean()
# med_cyc = cars['cylinders'].median()
# print(f'avg cylinder is {avg_cyc} and median cylinder is {med_cyc}')
# cars['cylinders'] = cars['cylinders'].fillna(value=med_cyc)

# %%
# Find the avg and median odometer
avg_odo = cars['odometer'].mean()
med_odo = cars['odometer'].median()
print(f'avg odometer is {avg_odo} and median odometer is {med_odo}')
cars['odometer'] = cars['odometer'].fillna(value=avg_odo)
# Rounding Odometer
cars['odometer'] = cars['odometer'].round(0)

# %%
# Filling in paint color with 'unknown'
cars['paint_color'] = cars['paint_color'].fillna(value='unknown')

# %%
# Replacing NaN with 0
cars['is_4wd'] = cars['is_4wd'].fillna(value=0)

# %%
cars = cars.dropna()
cars

# %% [markdown]
# ### Analysis

# %%
# Define your color sequence
color_seq = px.colors.qualitative.Plotly

# %%
price_hist = px.histogram(cars,
                        x='price',
                        nbins=20,
                        title='Distribution of Vehicle Costs',
                        text_auto=True,
                        labels={'price': 'Vehicle Price (dollars)',
                                'count': 'Number of Vehicles'},
                        color_discrete_sequence=['#000080'])
# Adjusting the space between bars
price_hist.update_layout(bargap=.2) 
price_hist.show()

# %%
mfr_scat = px.scatter(cars,
                x='odometer',
                y='manufacturer',
                color='listing_category',
                title='Odometer Reading by Manufacturer',
                labels={'odometer': 'Odometer (Miles)',
                        'manufacturer': 'Manufacturer'},
                category_orders={'listing_category': ['Good', 'Fair', 'Poor', 'Very Poor']},
                color_discrete_sequence=color_seq)

# Making the graph bigger so it's readable
mfr_scat.update_layout(width=1000, height=600)
mfr_scat.show()

# %%
# Will be used to sort graph by frequency instead of manufacturer
manufacturer_counts = cars['manufacturer'].value_counts()

stacked_bar = px.bar(cars,
                    x='manufacturer',
                    color='type',
                    title='Vehicle Types by Manufacturer',
                    color_discrete_sequence=color_seq,
                    height=500,
                    category_orders={'manufacturer': manufacturer_counts.index.tolist()})

stacked_bar.update_layout(barmode='stack')
stacked_bar.show()

# %%
type_histogram = px.histogram(cars,
                            x='model_year',
                            color='condition',
                            color_discrete_sequence=color_seq,
                            category_orders={'condition': ['new','like new', 'excellent', 'good', 'fair', 'salvage']},
                            title='Condition of Vehicles by Year')
type_histogram.update_layout(bargap=.2) 
type_histogram.show()

# %%
price_compare = px.histogram(cars,
                            x='price',
                            color='manufacturer',
                            color_discrete_sequence=color_seq,
                            title='Price Distribution Between Manufacturers',
                            height=600)
price_compare.update_layout(bargap=.2) 
price_compare.show()

# %%
mfr_listing = px.histogram(cars,
                        x='manufacturer',
                        color='listing_category',
                        color_discrete_sequence=color_seq,
                        title='Listing Category by Manufacturers',
                        height=600,
                        category_orders={'manufacturer': manufacturer_counts.index.tolist()})
mfr_listing.show()

# %%

odo_list = px.scatter(cars,
                        x='days_listed',
                        y='odometer',
                        color='condition',
                        title='Odometer Reading by Number of Listing Days',
                        labels={'odometer': 'Odometer (Miles)',
                                'days_listed': 'Number of Days on Market'},
                        category_orders={'condition': ['new','like new', 'excellent', 'good', 'fair', 'salvage']},
                        color_discrete_sequence=color_seq)

# Making the graph bigger so it's readable
odo_list.update_layout(width=1500, height=750)
odo_list.show()

# %%
over_time = px.scatter(cars,
                    x='days_listed',
                    y='price',
                    size='odometer',
                    color='fuel',
                    facet_col='fuel',
                    color_discrete_sequence=color_seq,
                    size_max=35)
over_time.show()

# %%
cars_year = cars.sort_values(by='model_year')
cars_year

# %%
scatter = px.scatter(cars,
                    x='price',
                    y='odometer',
                    color='condition',
                    trendline='ols',
                    marginal_x='histogram',
                    marginal_y='box',
                    color_discrete_sequence=color_seq,
                    title='Trendlines and Marginal Distribution between Odometer Reading and Price',
                    height=1000)
scatter.show()



